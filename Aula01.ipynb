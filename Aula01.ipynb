{
  "nbformat": 4,
  "nbformat_minor": 0,
  "metadata": {
    "colab": {
      "name": "Aula01.ipynb",
      "provenance": [],
      "collapsed_sections": [],
      "toc_visible": true,
      "authorship_tag": "ABX9TyMf8EsLIQX7BpyiC8uZX5sc"
    },
    "kernelspec": {
      "name": "python3",
      "display_name": "Python 3"
    },
    "language_info": {
      "name": "python"
    }
  },
  "cells": [
    {
      "cell_type": "markdown",
      "source": [
        "#Primeira Aula Python\n",
        "\n"
      ],
      "metadata": {
        "id": "7LXo0Rcebkei"
      }
    },
    {
      "cell_type": "markdown",
      "source": [
        "Exercício 1 \n",
        "\n",
        "Criando os Primeras Linhas de Código"
      ],
      "metadata": {
        "id": "NiupLxCCBkRQ"
      }
    },
    {
      "cell_type": "code",
      "source": [
        "print ('Olá mundo...')\n",
        "\n",
        "nome = input ('Qual é seu nome ? ')\n",
        "idade = input ('Qualé sua idade ? ')\n",
        "peso = input ('Qual é seu peso ? ')\n",
        "print('\\nNome:',nome,'\\nIdade:',idade,'\\nPeso:',peso)"
      ],
      "metadata": {
        "id": "dKhtru_xCLRe"
      },
      "execution_count": null,
      "outputs": []
    },
    {
      "cell_type": "markdown",
      "source": [
        "Exercício 2 \n",
        "\n",
        "Respondendo ao Usuário"
      ],
      "metadata": {
        "id": "COH_3OrRC2_i"
      }
    },
    {
      "cell_type": "code",
      "source": [
        "dia = input('Dia: ')\n",
        "mes = input('Mês: ')\n",
        "ano = input('Ano: ')\n",
        "print('Você nasceu no dia', dia, 'de', mes,'de', ano)"
      ],
      "metadata": {
        "id": "K6pbna6YDFj2"
      },
      "execution_count": null,
      "outputs": []
    },
    {
      "cell_type": "markdown",
      "source": [
        "#Tratando dados e fazendo contas"
      ],
      "metadata": {
        "id": "qaVbw5kn-a1u"
      }
    },
    {
      "cell_type": "markdown",
      "source": [
        "##Tipos Primitivos\n"
      ],
      "metadata": {
        "id": "73o2R6xOBAcA"
      }
    },
    {
      "cell_type": "markdown",
      "source": [
        "\n",
        "Exercício 3 \n",
        "\n",
        "Somandos dois números "
      ],
      "metadata": {
        "id": "iQ0v3rtHBTwZ"
      }
    },
    {
      "cell_type": "code",
      "source": [
        "n1 = int(input('Digite um valor: '))\n",
        "n2 = int(input('Figite outro valor: '))\n",
        "s= n1 + n2\n",
        "print('A soma entre {} e {} é igual a {}!'.format(n1, n2, s))"
      ],
      "metadata": {
        "id": "ioghEj1w-cjf"
      },
      "execution_count": null,
      "outputs": []
    },
    {
      "cell_type": "markdown",
      "source": [
        "Exercício 4 \n",
        "\n",
        "Dissecando uma variável"
      ],
      "metadata": {
        "id": "XjTV5u7CAE0W"
      }
    },
    {
      "cell_type": "code",
      "source": [
        "a = input('Digite algo: ')\n",
        "print('\\n')\n",
        "print('O tipo primitivo desse valor é:', type(a))\n",
        "print('Só tem espaços ?', a.isspace())\n",
        "print('É um número ?', a.isnumeric())\n",
        "print('É alfabetico ?', a.isalpha())\n",
        "print('É alphanumérico ?', a.isalnum())\n",
        "print('Está em maisúsculas ?', a.isupper())\n",
        "print('Está em minúsculas ?', a.islower())\n",
        "print('Está captalizada ?', a.istitle())"
      ],
      "metadata": {
        "id": "hMlfHl2JAa-l"
      },
      "execution_count": null,
      "outputs": []
    },
    {
      "cell_type": "markdown",
      "source": [
        "##Operadores Aritiméticos"
      ],
      "metadata": {
        "id": "iKkiicIkA2HR"
      }
    },
    {
      "cell_type": "markdown",
      "source": [
        "Anotações"
      ],
      "metadata": {
        "id": "usVdzGBgiccv"
      }
    },
    {
      "cell_type": "code",
      "source": [
        "\n",
        "                                          # Estes Operadores Binários \n",
        "#  + Adição  (- Subtração)  (* Mutiplicação)  (/ divisão)  (** Potência)  (// Divisão Inteira) (% Resto da Divisão)\n",
        "\n",
        "                                                         \n",
        "                                             # Ordem de Precedência\n",
        "                            #  1º ()         2º **        3º * / //  %       4º + - "
      ],
      "metadata": {
        "id": "YhzhCv-1D4-S"
      },
      "execution_count": null,
      "outputs": []
    },
    {
      "cell_type": "markdown",
      "source": [
        "Exemplos"
      ],
      "metadata": {
        "id": "5P5ZmYXaEHGo"
      }
    },
    {
      "cell_type": "code",
      "source": [
        "a = 5 + 3 * 2\n",
        "b = 3 * 5 + 4 ** 2\n",
        "c = 3 * (5 + 4) ** 2\n",
        "d = 81**(1/2) # raíz quadrada\n",
        "e = 4**3 # quatro ao cubo\n",
        "f = pow(4,3) #quatro ao cubo \n",
        "g = 127**(1/3) # raíz cúbica\n",
        "\n",
        "print('Resultado\\nA:{}, B:{}, C:{},\\nD:{}, E:{}, F:{}\\nG:{}\\n'.format(a, b, c, d, e, f, g))\n",
        "\n",
        "h = 'Oi' * 5\n",
        "\n",
        "print('\\n',h) \n"
      ],
      "metadata": {
        "id": "VQiwdjdmEKP4"
      },
      "execution_count": null,
      "outputs": []
    },
    {
      "cell_type": "markdown",
      "source": [
        "Alinhamento"
      ],
      "metadata": {
        "id": "oWPJQQhoEYTv"
      }
    },
    {
      "cell_type": "code",
      "source": [
        "#\\n pula vai para linha a baixo\n",
        "#{:n} escreve em n espaços \n",
        "#{:>n} escreve em n espaços à direita\n",
        "#{:<n} escreve em n espaços à esquerda\n",
        "#{:n} escreve centralizado em n espaços\n",
        "#{:=^n} escreve centralizado em n espaços com símbolos de =\n",
        "\n",
        "i =  input('Qual é seu nome: ')\n",
        "\n",
        "print('\\n{:=^50}\\n'.format(i))\n",
        "\n",
        "n1 = int(input('Olá {}, seja bem vindo, por favor digite um valor: '.format(i)))\n",
        "n2 = int(input('\\nAgora outro valor: '))\n",
        "s = n1 + n2\n",
        "m = n1 * n2\n",
        "div = n1 / n2\n",
        "exp = n1 ** n2 \n",
        "\n",
        "print('\\n{} os valores infomados foram {} e {}, \\na soma é {}, \\na mutiplicação fica {}, \\ndivisão resulta em {:.2f} \\ne a exponenciação é {}\\n'.format(i, n1, n2, s, m, div, exp))"
      ],
      "metadata": {
        "id": "DcNjy3DQEd0Z"
      },
      "execution_count": null,
      "outputs": []
    },
    {
      "cell_type": "markdown",
      "source": [
        "Exercício 5\n",
        "\n",
        "Faça um programa que leia um número Inteiro e mostre na tela seu sucessor e seu antecessor\n"
      ],
      "metadata": {
        "id": "5mSeVDF_F7YT"
      }
    },
    {
      "cell_type": "code",
      "source": [
        "d5 = int(input('{}, agora digite um número novo: '.format(i)))\n",
        "\n",
        "print('\\n{} a responta foi {}, antes dele vem o {} e depois vem o {}, OK ;D'.format(i, d5, (d5 - 1), (d5 + 1)))"
      ],
      "metadata": {
        "id": "8nBAgs8SGDMe"
      },
      "execution_count": null,
      "outputs": []
    },
    {
      "cell_type": "markdown",
      "source": [
        "Exercício 6\n",
        "\n",
        "Crie um algoritimo que leia um número e motre o seu dobro, triplo e raiz quadrada"
      ],
      "metadata": {
        "id": "uy-HRA-GGIfW"
      }
    },
    {
      "cell_type": "code",
      "source": [
        "d6 = int(input('Boa {}, vamos com mais desafios, digite mais um valor: '.format(i)))\n",
        "\n",
        "print('\\nLegal, {} você digitou {}, o dobro desse valor é {}, o triplo ficou {} e a raíz quadra é {:.2f}'.format(i, d6, (d6 * 2), (d6 * 3), (d6**(1/2))))"
      ],
      "metadata": {
        "id": "qsscxogpGRrS"
      },
      "execution_count": null,
      "outputs": []
    },
    {
      "cell_type": "markdown",
      "source": [
        "EXercício 7\n",
        "\n",
        "Desenvolva um programa que leia as duas nota de uma aluno, calcule e mostre a sua média.\n",
        "\n"
      ],
      "metadata": {
        "id": "mBwIy0KaGa1I"
      }
    },
    {
      "cell_type": "code",
      "source": [
        "nota1 = float(input('Vamos de próxima {}! Qual foi a sua 1ª nota do bimentre desse ano? '.format(i)))\n",
        "nota2 = float(input('Bacana! E a sua 2ª nota ?'))\n",
        "\n",
        "print('Que incrivél {}! sua 1ª nota foi {} e a 2ª ficou em {}, calculamos sua média em {}'.format(i, nota1, nota2, ((nota1 + nota2)/2)))"
      ],
      "metadata": {
        "id": "stasJCztHRzH"
      },
      "execution_count": null,
      "outputs": []
    },
    {
      "cell_type": "markdown",
      "source": [
        "Exercícios 8\n",
        "\n",
        "Escreva um programa que leia um valor em metros e os exiba convertido em centímetros e milímetros "
      ],
      "metadata": {
        "id": "-yLyqNPdIv7z"
      }
    },
    {
      "cell_type": "code",
      "source": [
        "medida = float(input('Quantos metros você quer converter? '))\n",
        "\n",
        "\n",
        "print('\\n{}, a medida informada foi {}, as converções em medidas para esse valor são: \\nQilómetros = {} km \\nDecâmetros = {} dam \\nHectómetros = {} hm'\n",
        ".format(i, medida, (medida *0.001), (medida * 0.01), (medida * 0.1),(medida * 10)))\n",
        "\n",
        "print('Centímetro = {:.0f} cm \\nMilimetros = {:.0f} mm'.format((medida * 100),(medida * 1000)))\n"
      ],
      "metadata": {
        "id": "Jzcw56SUI1_w"
      },
      "execution_count": null,
      "outputs": []
    },
    {
      "cell_type": "markdown",
      "source": [
        "Exercício 9\n",
        "\n",
        "Faça uma programa que leia um número Inteiro qualquer e mostre na tela a sua tabuada."
      ],
      "metadata": {
        "id": "JfkKMT6_JXq-"
      }
    },
    {
      "cell_type": "code",
      "source": [
        "valor = int(input('{}, digite uma valor para saber sua tabuada até o mutiplicador 10: '.format(i)))\n",
        "aux = 0\n",
        "print('\\n')\n",
        "print('-' * 12)\n",
        "print('Tabuada do {}\\n'.format(valor))\n",
        "\n",
        "\n",
        "while(aux <= 10):\n",
        "  print('{:2} X {:2} = {:2}'.format(aux, valor, (aux * valor)))\n",
        "  aux = aux + 1\n",
        "\n",
        "print('-' * 12)"
      ],
      "metadata": {
        "id": "KwEEFNjoJnAg"
      },
      "execution_count": null,
      "outputs": []
    },
    {
      "cell_type": "markdown",
      "source": [
        "Exercício 10\n",
        "\n",
        "Crie um programa que leia quanto dinheiro uma pessoa tem na carteira e mostre quantos Dólares ele pode comprar"
      ],
      "metadata": {
        "id": "eG0jiS-gJwqO"
      }
    },
    {
      "cell_type": "code",
      "source": [
        "reais = float(input('{}, qual é o valor que você tem na sua carteira ? '.format(i)))\n",
        "dolar = 5.06\n",
        "print('\\n{}, com esse valor de R$ {:.2f} você consegue comprar US$ {:.2f}, pois o valor dessa moeda esta US$ {} '.format(i, reais, (reais / dolar), dolar ))"
      ],
      "metadata": {
        "id": "EKezliUSJ6Kj"
      },
      "execution_count": null,
      "outputs": []
    },
    {
      "cell_type": "markdown",
      "source": [
        "Exercício 11\n",
        "\n",
        "Faça uma programa que leia a largura e a altura de uma parede em metros, calcule a sua área e a quantidade de tinta necessátia para pintá-la, sabendo que cada litro de tinta pinta uma de área 2m²"
      ],
      "metadata": {
        "id": "S69eKZLFKPac"
      }
    },
    {
      "cell_type": "code",
      "source": [
        "altura = float(input('{}, vamos medir a área quadrada da sua parede ok, qual é altura dela ?: '.format(i)))\n",
        "largura = float(input('\\nLegal {}, agora a largura dela ?: '.format(i)))\n",
        "area = altura * largura \n",
        "\n",
        "\n",
        "print('\\nOlha {} sua parade tem uma dimensão {}x{} a área dela é de {:.3f} m². Você vai precisar de {:.3f}l  para pintar sua parede'\n",
        ".format(i, altura, largura, area, (area / 2)))"
      ],
      "metadata": {
        "id": "oSQFD6cnKV-z"
      },
      "execution_count": null,
      "outputs": []
    },
    {
      "cell_type": "markdown",
      "source": [
        "Exercício 12\n",
        "\n",
        "Faça uma algoritimo que leia o preço de um produto e mostre seu novo preço. com 5% de desconto.\n",
        "\n"
      ],
      "metadata": {
        "id": "XtAGUUQaL6xz"
      }
    },
    {
      "cell_type": "code",
      "source": [
        "produto = float(input('Qual é o valor desse produro é: R$ '))\n",
        "desconto = produto - (produto*5/100)\n",
        "\n",
        "print('\\nO valor atual do produto é R$ {:.2f}, com 5% de desconto ele ficará R$ {:.2f}'.format(produto, desconto))"
      ],
      "metadata": {
        "id": "VVh7_zhFMHOH"
      },
      "execution_count": null,
      "outputs": []
    },
    {
      "cell_type": "markdown",
      "source": [
        "Exercício 13\n",
        "\n",
        " Faça uma algoritimo que leia o preço de um produto e mostre seu novo preço. com 5% de desconto."
      ],
      "metadata": {
        "id": "kR-LuOx8K__F"
      }
    },
    {
      "cell_type": "code",
      "source": [
        "salario = float(input('{}, por favor precisamos saber qual é seu salário atual ?: '.format(i)))\n",
        "\n",
        "percentual = (15 / 100) * salario\n",
        "\n",
        "print('\\nParabens {}, você acabou de receber um aumento de 15% (R$ {:.2f}), e o valor d seu salário agora é R$ {:.2f}'.format(i, percentual, (salario + percentual)))"
      ],
      "metadata": {
        "id": "HTtLoJmLLFlx"
      },
      "execution_count": null,
      "outputs": []
    },
    {
      "cell_type": "markdown",
      "source": [
        "Exercício 14 \n",
        "\n",
        "Escreva um programa que converta uma temperatura digitada em ºC para Fahrenheit e Kelvin\n"
      ],
      "metadata": {
        "id": "d3RZTBYQSwsC"
      }
    },
    {
      "cell_type": "code",
      "source": [
        "celsius = float(input('{}, informe a temperatura em °C: '.format(i)))\n",
        "fahrenheit = celsius * 9 / 5 + 32\n",
        "kelvin = celsius + 273.15\n",
        "\n",
        "print('\\n{}, foi digitado o valor {:.0f}°C a converção para Fahrenheit é {}°F e para Kelvin é de {}K '.format(i, celsius, fahrenheit, kelvin))"
      ],
      "metadata": {
        "id": "vF62WnWVS-su"
      },
      "execution_count": null,
      "outputs": []
    },
    {
      "cell_type": "markdown",
      "source": [
        "Exercício 15\n",
        "\n",
        "Escreva um programa que pergunte a quantidade de Km percorrido por um carro alugado e a quantidade e dias pelos quais ele foi alugado. Calcule o preço a pagar, sabendo que o carro custa R$60 por dia e 0,15 por Km rodado"
      ],
      "metadata": {
        "id": "L32M1zr6XkYo"
      }
    },
    {
      "cell_type": "code",
      "source": [
        "\n",
        "dias = int(input('Quantos dias você alugou o carro ?: '))\n",
        "km = float(input('\\nQuanto Km você rodou com ele?: '))\n",
        "\n",
        "valor = (dias * 60) + (km * 0.15)\n",
        "\n",
        "print('\\n{}, o total a pagar pelo aluguel é de R$ {:.2f}'.format(i, valor))\n"
      ],
      "metadata": {
        "id": "PKpEOshVX778"
      },
      "execution_count": null,
      "outputs": []
    }
  ]
}