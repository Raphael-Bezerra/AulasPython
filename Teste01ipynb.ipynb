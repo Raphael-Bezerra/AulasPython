{
  "nbformat": 4,
  "nbformat_minor": 0,
  "metadata": {
    "colab": {
      "name": "Teste01ipynb",
      "provenance": [],
      "authorship_tag": "ABX9TyM18C/40cctpA7zPIQCBgIR",
      "include_colab_link": true
    },
    "kernelspec": {
      "name": "python3",
      "display_name": "Python 3"
    },
    "language_info": {
      "name": "python"
    }
  },
  "cells": [
    {
      "cell_type": "markdown",
      "metadata": {
        "id": "view-in-github",
        "colab_type": "text"
      },
      "source": [
        "<a href=\"https://colab.research.google.com/github/Raphael-Bezerra/AulasPython/blob/main/Teste01ipynb.ipynb\" target=\"_parent\"><img src=\"https://colab.research.google.com/assets/colab-badge.svg\" alt=\"Open In Colab\"/></a>"
      ]
    },
    {
      "cell_type": "markdown",
      "source": [
        "#Questão 1 \n",
        "\n",
        "Qual das opções a seguir completa as lacunas da afirmação abaixo?\n",
        "\n",
        "A Linguagem Python foi criada no ano de ________ , pelo programador ______________. Das opções abaixo, a única que preenche corretamente as lacunas é:\n",
        "\n",
        "\n",
        " 1993 / Rasmus Lerdorf\n",
        "\n",
        " 1992 / James Gosling\n",
        "\n",
        " [x] - 1982 / Guido Van Hossum\n",
        "\n",
        " 2000 / Anders Hejlsberg\n"
      ],
      "metadata": {
        "id": "XtgxsBmE8UVf"
      }
    },
    {
      "cell_type": "markdown",
      "source": [
        "#Questão 2 \n",
        "\n",
        "Considerando as variáveis n='José' e i=25, qual das opções abaixo é a única válida como uma string formatada que funcionaria em Python?\n",
        "\n",
        " 'Você se chama {n} e tem {i} anos de idade'\n",
        "\n",
        " 'Você se chama () e tem () anos de idade'.format(n, i)\n",
        "\n",
        " 'Você se chama [] e tem [] anos de idade'.format(n, i)\n",
        "\n",
        "[x] - 'Você se chama {} e tem {} anos de idade'.format(n, i)"
      ],
      "metadata": {
        "id": "hN9zkYDD88sI"
      }
    },
    {
      "cell_type": "code",
      "source": [
        "n = 'José'\n",
        "i = 25\n",
        "\n",
        "print('Você se chama {} e tem {} anos de idade.'.format(n,i))"
      ],
      "metadata": {
        "colab": {
          "base_uri": "https://localhost:8080/"
        },
        "id": "DMGfghg39Ipj",
        "outputId": "14340ec3-2048-42e2-eb13-fc181fe24ade"
      },
      "execution_count": 1,
      "outputs": [
        {
          "output_type": "stream",
          "name": "stdout",
          "text": [
            "Você se chama José e tem 25 anos de idade.\n"
          ]
        }
      ]
    },
    {
      "cell_type": "markdown",
      "source": [
        "#Questão 3\n",
        "\n",
        "Se o nosso programa Python precisar calcular a raiz quadrada de um número, seria interessante incluir qual linha como primeiro comando desse programa?\n",
        "\n",
        "from numbers import pow\n",
        "\n",
        "import sqrt\n",
        "\n",
        "[x] - from math import sqrt\n",
        "\n",
        "from math import pow"
      ],
      "metadata": {
        "id": "CfIpstUq9ucz"
      }
    },
    {
      "cell_type": "code",
      "source": [
        "from math import sqrt\n",
        "\n",
        "n = int(input('Digite um número: '))\n",
        "\n",
        "rq = sqrt(n)\n",
        "\n",
        "print(rq)"
      ],
      "metadata": {
        "colab": {
          "base_uri": "https://localhost:8080/"
        },
        "id": "ySZwa2dk97qH",
        "outputId": "0696ec9a-e3f1-403f-cfad-e63f4272281f"
      },
      "execution_count": 2,
      "outputs": [
        {
          "output_type": "stream",
          "name": "stdout",
          "text": [
            "Digite um número: 81\n",
            "9.0\n"
          ]
        }
      ]
    },
    {
      "cell_type": "markdown",
      "source": [
        "#Questão 4\n",
        "\n",
        "Qual é o resultado calculado pelo Python para a expressão composta 3 * 5 + 4 ** 2?\n",
        "\n",
        " [x] - 31\n",
        "\n",
        " 361\n",
        "\n",
        " 38\n",
        "\n",
        " 76\n"
      ],
      "metadata": {
        "id": "omuXZaoe-t_Y"
      }
    },
    {
      "cell_type": "code",
      "source": [
        "3 * 5 + 4 ** 2"
      ],
      "metadata": {
        "colab": {
          "base_uri": "https://localhost:8080/"
        },
        "id": "VNOUfLfO-3AI",
        "outputId": "e5351c2d-f864-44c2-818b-265aca91d089"
      },
      "execution_count": 3,
      "outputs": [
        {
          "output_type": "execute_result",
          "data": {
            "text/plain": [
              "31"
            ]
          },
          "metadata": {},
          "execution_count": 3
        }
      ]
    },
    {
      "cell_type": "markdown",
      "source": [
        "#Questão 5\n",
        "\n",
        "Para o Python, os valores verdadeiro e falso são do tipo ________ e são representados pelos valores ________ e ________. Qual das opções a seguir é a única que contém as palavras que completam as lacunas da frase anterior, na ordem?\n",
        "\n",
        " int / 0 / 1\n",
        "\n",
        " bool / 'true' / 'false\n",
        "\n",
        " int / True / False\n",
        "\n",
        " [x] - bool / True / False"
      ],
      "metadata": {
        "id": "8bq4us-Y_FPL"
      }
    },
    {
      "cell_type": "markdown",
      "source": [
        "#Questão 6\n",
        "\n",
        "Qual é o resultado calculado pelo Python para as expressões simples 19 // 2 e 19%2, respectivamente?\n",
        "\n",
        " 9.5 e 1\n",
        "\n",
        " [x] - 9 e 1\n",
        "\n",
        " 1 e 0\n",
        "\n",
        " 0 e 1"
      ],
      "metadata": {
        "id": "TzRl5CSS_TwD"
      }
    },
    {
      "cell_type": "code",
      "source": [
        "19 // 2"
      ],
      "metadata": {
        "colab": {
          "base_uri": "https://localhost:8080/"
        },
        "id": "qc3S_NHi_b1u",
        "outputId": "ad270c75-0b11-4737-ce38-7ab64f2239a1"
      },
      "execution_count": 4,
      "outputs": [
        {
          "output_type": "execute_result",
          "data": {
            "text/plain": [
              "9"
            ]
          },
          "metadata": {},
          "execution_count": 4
        }
      ]
    },
    {
      "cell_type": "code",
      "source": [
        "19%2"
      ],
      "metadata": {
        "colab": {
          "base_uri": "https://localhost:8080/"
        },
        "id": "SRX_4mC3_b-B",
        "outputId": "a1e1fc35-5682-41f0-fdc2-42d165625c37"
      },
      "execution_count": 5,
      "outputs": [
        {
          "output_type": "execute_result",
          "data": {
            "text/plain": [
              "1"
            ]
          },
          "metadata": {},
          "execution_count": 5
        }
      ]
    },
    {
      "cell_type": "markdown",
      "source": [
        "#Questão 7\n",
        "\n",
        "Considere a string x = 'curso de python no cursoemvideo'. Qual dos comandos abaixo retornaria a palavra 'curso'?\n",
        "\n",
        " x[4]\n",
        "\n",
        "[x] - x[:5]\n",
        "\n",
        " x[1:5]\n",
        "\n",
        " x[5]\n"
      ],
      "metadata": {
        "id": "Gmp2BXXf_nrC"
      }
    },
    {
      "cell_type": "code",
      "source": [
        "x = 'curso de python no cursoemvideo'\n",
        "\n",
        "print(x[:5])\n",
        "\n",
        "\n",
        "\n"
      ],
      "metadata": {
        "colab": {
          "base_uri": "https://localhost:8080/"
        },
        "id": "iabvkuoX_yd_",
        "outputId": "2c3c4087-daec-417e-9528-626f4d9bfe7f"
      },
      "execution_count": 12,
      "outputs": [
        {
          "output_type": "stream",
          "name": "stdout",
          "text": [
            "curso\n"
          ]
        }
      ]
    },
    {
      "cell_type": "markdown",
      "source": [
        "#Questão 8\n",
        "\n",
        "Das opções abaixo, apenas uma NÃO É uma característica da linguagem Python. Marque a opção inválida da lista a seguir:\n",
        "\n",
        " É uma linguagem livre\n",
        "\n",
        " É uma linguagem orientada a objetos\n",
        "\n",
        " É multiplataforma\n",
        "\n",
        " [x] - É nativamente compilada\n"
      ],
      "metadata": {
        "id": "nnp9yMUuBA1K"
      }
    },
    {
      "cell_type": "markdown",
      "source": [
        "#Questçao 9\n",
        "\n",
        "Qual das opções a seguir é a única que NÃO É um tipo primitivo em Python?\n",
        "\n",
        " [x] - double\n",
        "\n",
        " float\n",
        "\n",
        " int\n",
        "\n",
        " bool\n",
        "\n"
      ],
      "metadata": {
        "id": "g6CbNKW3Bd_p"
      }
    },
    {
      "cell_type": "markdown",
      "source": [
        "#Questão 10\n",
        "\n",
        "O nome da linguagem Python foi escolhido pelo seu criador para homenagear o que?\n",
        "\n",
        "Uma cobra Python\n",
        "\n",
        "Um dos familiares do criador, com sobrenome Python\n",
        "\n",
        "Uma outra linguagem antiga, chamada Pyth\n",
        "\n",
        "[x]  - Um programa de TV chamado Monty Python"
      ],
      "metadata": {
        "id": "Y15z3e8jBqsR"
      }
    },
    {
      "cell_type": "markdown",
      "source": [
        "#Questão 11\n",
        "\n",
        "Considere a string s = 'prova de python'. A instrução len(s) retornaria qual valor?\n",
        "\n",
        " [x] - 15\n",
        "\n",
        " 14\n",
        "\n",
        " 13\n",
        "\n",
        " 10\n"
      ],
      "metadata": {
        "id": "sGtRlJmIClrm"
      }
    },
    {
      "cell_type": "code",
      "source": [
        "s = 'prova de python'\n",
        "\n",
        "print(len(s))"
      ],
      "metadata": {
        "colab": {
          "base_uri": "https://localhost:8080/"
        },
        "id": "RyqfMqLZCvVf",
        "outputId": "1f24706d-94e8-45c1-e6f5-323623fcaf05"
      },
      "execution_count": 13,
      "outputs": [
        {
          "output_type": "stream",
          "name": "stdout",
          "text": [
            "15\n"
          ]
        }
      ]
    },
    {
      "cell_type": "markdown",
      "source": [
        "Qual das opções a seguir permite ler a idade de uma pessoa em Python, já considerando o valor digitado como um número?\n",
        "\n",
        " idade = int('Quantos anos você tem?')\n",
        "\n",
        " idade = input(int('Quantos anos você tem?'))\n",
        "\n",
        " [x] - idade = int(input('Quantos anos você tem?'))\n",
        "\n",
        " idade = input('Quantos anos você tem?')"
      ],
      "metadata": {
        "id": "jbqu3yS7Dq9Z"
      }
    }
  ]
}