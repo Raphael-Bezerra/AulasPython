{
  "nbformat": 4,
  "nbformat_minor": 0,
  "metadata": {
    "colab": {
      "name": "Aula03.ipynb",
      "provenance": [],
      "collapsed_sections": [],
      "authorship_tag": "ABX9TyOysRb9/aHtE1n8DVhOylAS"
    },
    "kernelspec": {
      "name": "python3",
      "display_name": "Python 3"
    },
    "language_info": {
      "name": "python"
    }
  },
  "cells": [
    {
      "cell_type": "markdown",
      "source": [
        "#Manipulando Cadeias de Texto\n",
        "\n"
      ],
      "metadata": {
        "id": "sYWjZFdgW0Sf"
      }
    },
    {
      "cell_type": "markdown",
      "source": [
        "## Anotações Teoria"
      ],
      "metadata": {
        "id": "Q-_xEQX6oRU3"
      }
    },
    {
      "cell_type": "markdown",
      "source": [
        "\n",
        "##Fatiamento\n",
        "\n",
        "Explicação"
      ],
      "metadata": {
        "id": "cgtQnkxDa8sr"
      }
    },
    {
      "cell_type": "code",
      "execution_count": null,
      "metadata": {
        "id": "2UBspohwWv-q"
      },
      "outputs": [],
      "source": [
        "#                frase = 'Curso em Video Python'\n",
        "\n",
        "#                frase[9] - Pegando uma letra \n",
        "\n",
        "#                                    ↓\n",
        "#                 C u r s o   e  m   V i  d  e   o    P  y  t  h  o  n\n",
        "#                 0 1 2 3 4 5 6  7 8 9 10 11 12 13 14 15 16 17 18 19 20\n",
        "\n",
        "#---------------------------------------------------------------------------------------------------------------------------------------------------------------\n",
        "\n",
        "#                frase[9:13] - Selecionando do 'V'(9) até o 'o'(13) - Lembrando que o último valor declarado nunca aparece, resultando em 'Vide' \n",
        "\n",
        "#                                    ↓           ↓\n",
        "#                 C u r s o   e  m   V i  d  e   o    P  y  t  h  o  n \n",
        "#                 0 1 2 3 4 5 6  7 8 9 10 11 12 13 14 15 16 17 18 19 20\n",
        "\n",
        "#---------------------------------------------------------------------------------------------------------------------------------------------------------------\n",
        "\n",
        "#                frase[9:21] - Aqui nesse não existe 21, sendo assim, sua resgate vai até o 'n'(20) mesmo, que é ultomo valor da String, resultando em 'Video Python' \n",
        "\n",
        "#                                    ↓                               ↓\n",
        "#                 C u r s o   e  m   V i  d  e   o    P  y  t  h  o  n \n",
        "#                 0 1 2 3 4 5 6  7 8 9 10 11 12 13 14 15 16 17 18 19 20\n",
        "\n",
        "#---------------------------------------------------------------------------------------------------------------------------------------------------------------\n",
        "\n",
        "\n",
        "#                frase[9:21:2] - Aqui eu vou começar em 'V'(9) terminar em 'n'(20) e pular de 2 e 2, resultando em 'VdoPto'\n",
        "\n",
        "#                                      ↓     ↓     ↓     ↓     ↓     ↓  - Aqui todos os selecionados foram ignorados \n",
        "#                 C u r s o   e  m   V i  d  e   o    P  y  t  h  o  n \n",
        "#                 0 1 2 3 4 5 6  7 8 9 10 11 12 13 14 15 16 17 18 19 20\n",
        "\n",
        "#---------------------------------------------------------------------------------------------------------------------------------------------------------------\n",
        "\n",
        "\n",
        "#                frase[:5] - Quando eu omito onde vai começar ou terminar sempre começa em '0' ou termina apresentando até no ultimo valor (frase[5:]) \n",
        "\n",
        "#                 ↓         ↓                                           - Lembrando que o último que foi declarado nunca é apresentado, resultando em 'Curso'                                        \n",
        "#                 C u r s o   e  m   V i  d  e   o    P  y  t  h  o  n \n",
        "#                 0 1 2 3 4 5 6  7 8 9 10 11 12 13 14 15 16 17 18 19 20\n",
        "\n",
        "#---------------------------------------------------------------------------------------------------------------------------------------------------------------\n",
        "\n",
        "#                frase[9::3] - Neste caso vai começar no 'V'(9) :: Vai até  final e vai pular de 3 em 3 \n",
        "\n",
        "#                                    ↓       ↓        ↓        ↓           resultando 'VePh'                                               \n",
        "#                 C u r s o   e  m   V i  d  e   o    P  y  t  h  o  n \n",
        "#                 0 1 2 3 4 5 6  7 8 9 10 11 12 13 14 15 16 17 18 19 20\n",
        "\n"
      ]
    },
    {
      "cell_type": "markdown",
      "source": [
        "Exemplos Práticos"
      ],
      "metadata": {
        "id": "6RSpEM0fozPZ"
      }
    },
    {
      "cell_type": "code",
      "source": [
        "frase = 'Curso em Vídeo Python'\n",
        "\n",
        "print(frase)\n",
        "\n",
        "print(frase[3])\n",
        "\n",
        "print(frase[3:13])\n",
        "\n",
        "print(frase[13:])\n",
        "\n",
        "print(frase[1::9])\n",
        "\n",
        "print(frase[5:2:15])\n",
        "\n",
        "# Aspas 3x deixa você quebrar o texto de forma livre\n",
        "print(\"\"\"There are many variations of passages of Lorem Ipsum available, \n",
        "but the majority have suffered alteration in some form, by injected humour,   \n",
        "or randomised words which don't look even slightly believable. \n",
        "If you are going to use a passage of Lorem Ipsum, you need to be sure there isn't \n",
        "anything embarrassing hidden in the middle of text.\"\"\" )\n"
      ],
      "metadata": {
        "id": "y67r4BGFoyfI"
      },
      "execution_count": null,
      "outputs": []
    },
    {
      "cell_type": "markdown",
      "source": [
        "##Análise\n",
        "\n",
        "Explicação"
      ],
      "metadata": {
        "id": "j4_JRheEc78L"
      }
    },
    {
      "cell_type": "code",
      "source": [
        "#                 frase = 'Curso em Video Python'\n",
        "\n",
        "#                 Métodos:\n",
        "\n",
        "#                 len(frase) 'len' = comprimento - Aqui vai se analisar qual é comrimento da frase o seja o 'len' da variável 'frase' seria '21'\n",
        "\n",
        "#---------------------------------------------------------------------------------------------------------------------------------------------------------------\n",
        "\n",
        "#                 frase.count('o') - Aqui é pedido uma contagem de quantas vezes esse valor aparece na variável sendo aque o Python diferencia captalize\n",
        "\n",
        "#                         ↓                      ↓                ↓           resultando '3'                                               \n",
        "#                 C u r s o   e  m   V i  d  e   o    P  y  t  h  o  n \n",
        "#                 0 1 2 3 4 5 6  7 8 9 10 11 12 13 14 15 16 17 18 19 20\n",
        "\n",
        "#---------------------------------------------------------------------------------------------------------------------------------------------------------------\n",
        "\n",
        "#                 frase.count('o',0,13) - Contagem com o fatiamento, ou seja, entre o valor 'C'(0) e o(13) eu tenho quanto 'o'\n",
        "\n",
        "#                         ↓                      ↓                           resultando '1' pois último declarado não é contado                                                \n",
        "#                 C u r s o   e  m   V i  d  e   o    P  y  t  h  o  n\n",
        "#                 0 1 2 3 4 5 6  7 8 9 10 11 12 13 14 15 16 17 18 19 20\n",
        "\n",
        "#---------------------------------------------------------------------------------------------------------------------------------------------------------------\n",
        "#                 frase.find('deo') - encontrar a junção 'deo'\n",
        "\n",
        "#                                          ↓ ↓  ↓                           resultando '11' pois o a junção 'deo' foi encontrada e começa na posição 11 da frase                                             \n",
        "#                 C u r s o   e  m   V i  d  e   o    P  y  t  h  o  n \n",
        "#                 0 1 2 3 4 5 6  7 8 9 10 11 12 13 14 15 16 17 18 19 20\n",
        "\n",
        "#---------------------------------------------------------------------------------------------------------------------------------------------------------------\n",
        "\n",
        "#                 frase.find('Android') - Quando você coloca na srting um valor que não exite na variável ele te retorna um valor -1\n",
        "\n",
        "#---------------------------------------------------------------------------------------------------------------------------------------------------------------\n",
        "\n",
        "\n",
        "#                 'Curso' in frase - Pode se usar o operador 'in' para a verificação também, sendo 'in' não uma funcionalidade retornando somente 'true' ou 'false'\n",
        "\n"
      ],
      "metadata": {
        "id": "EGzgjZkepGHR"
      },
      "execution_count": null,
      "outputs": []
    },
    {
      "cell_type": "code",
      "source": [
        "#                  %reset -f  limpar todas as variáveis"
      ],
      "metadata": {
        "id": "GGfp09-N6pbh"
      },
      "execution_count": null,
      "outputs": []
    },
    {
      "cell_type": "code",
      "source": [
        "frase = '  Curso em Vídeo Python  '\n",
        "\n",
        "e1 = ' Método count, upper, strip, '\n",
        "print('{:=^50}\\n'.format(e1))\n",
        "\n",
        "print(len(frase))\n",
        "\n",
        "print(len(frase.strip())) # removendo os espaços"
      ],
      "metadata": {
        "id": "ePhtHNsW0Upj"
      },
      "execution_count": null,
      "outputs": []
    },
    {
      "cell_type": "code",
      "source": [
        "e2 = ' Método count, upper '\n",
        "print('{:=^50}\\n'.format(e2))\n",
        "\n",
        "print(frase.count('o'))\n",
        "\n",
        "print(frase.upper().count('O'))\n",
        "\n",
        "print(frase.upper())\n",
        "\n",
        "print(frase) \n",
        "\n",
        "\n"
      ],
      "metadata": {
        "id": "EwN9YhD1r0NL"
      },
      "execution_count": null,
      "outputs": []
    },
    {
      "cell_type": "code",
      "source": [
        "frase = '  Curso em Vídeo Python  '\n",
        "\n",
        "e3 = ' Método replace '\n",
        "print('{:=^50}\\n'.format(e3))\n",
        "\n",
        "print(frase.replace('Python', 'Java')) # mudança temporária\n",
        "\n",
        "print(frase)\n",
        "\n",
        "frase = (frase.replace('Python', 'Android')) # caso querira mudar a string definitivamente\n",
        "\n",
        "print(frase)\n",
        "\n"
      ],
      "metadata": {
        "id": "hZXEfBlD1dAj"
      },
      "execution_count": null,
      "outputs": []
    },
    {
      "cell_type": "code",
      "source": [
        "frase = 'Curso em Vídeo Python'\n",
        "\n",
        "e4 = ' Operador in '\n",
        "print('{:=^50}\\n'.format(e4))\n",
        "\n",
        "print('Curso' in frase)\n",
        "\n",
        "print(frase.find('Curso')) #Diferente de 'find' que vai falar em que posição a palavra começa "
      ],
      "metadata": {
        "id": "od5dwbj051jF"
      },
      "execution_count": null,
      "outputs": []
    },
    {
      "cell_type": "markdown",
      "source": [
        "##Transformação\n",
        "\n",
        "Explicação "
      ],
      "metadata": {
        "id": "ebTUop_XfF6F"
      }
    },
    {
      "cell_type": "code",
      "source": [
        "#                 Uma lista de string é imutável, é possivel muda-lá através dos Médotos:\n",
        "\n",
        "\n",
        "#                 frase.reaplace('Python','Android') - Substituição secundária \n",
        "#                 frase.upper() - Deixar toda string em maiúsculas\n",
        "#                 frase.lower() - Deixar toda string em minúscula\n",
        "#                 frase.capitalize() - Vai tranformar a String toda em minúscula e deixar somente o 1 caractere em maiúscula\n",
        "#                 frase.title() - Aqui é parecido o 'title\" transforma o 1 caractere de cada palavra da frase em letra em maiúscula\n",
        "\n",
        "#---------------------------------------------------------------------------------------------------------------------------------------------------------------\n",
        "\n",
        "#                 frase = \"   Aprenda Python  \"\n",
        "\n",
        "#                 Nesse exemplo há espaços propositadamente ante e depois da String \n",
        "\n",
        "#                 acontece muito na hora de um úsuario prencher formulários e deixar espaços inúteis no digitação\n",
        "\n",
        "#                 nesse caso podems usar o Método:\n",
        "\n",
        "#                 frase.strip() - Removendo todos os espaços inúteis do começo e do final da frase, mantendo somente os entre as palavras\n",
        "#                 frase.rstrip() - 'r' de rigth Removendo todos os espaços inúteis à direita da String\n",
        "#                 frase.rstril() - 'l' de left Removendo todos os espaços inúteis à esquerda da Strin\n",
        "\n",
        "#                 ↓ ↓ ↓ A p r e  n d a     P  y  t  h  o  n  ↓ ↓\n",
        "#                 0 1 2 3 4 5 6  7 8 9 10 11 12 13 14 15 16 17 18\n",
        "\n",
        "\n"
      ],
      "metadata": {
        "id": "g5OQeQgfdHhB"
      },
      "execution_count": null,
      "outputs": []
    },
    {
      "cell_type": "code",
      "source": [
        "\n",
        "print(frase.lower().find('vídeo')) #  primeiro é transformado 'Vídeo' em 'vídeo' e depois já é pedido para encontrar a posição da mesma"
      ],
      "metadata": {
        "id": "6yWWSriHFsvE"
      },
      "execution_count": null,
      "outputs": []
    },
    {
      "cell_type": "markdown",
      "source": [
        "##Divisão\n",
        "\n",
        "Explicação"
      ],
      "metadata": {
        "id": "_FPl1e2mktKY"
      }
    },
    {
      "cell_type": "code",
      "source": [
        "#                 frase = 'Curso em Video Python'\n",
        "\n",
        "#                 frase.split() - Ocorrerá uma divisão na sua string aonde houver espaços gerando uma lista dessa divisão \n",
        "\n",
        "#                                                                                                                     \n",
        "#                 C u r s o   e m   V i d e o   P y t h o n' \n",
        "#                 0 1 2 3 4   0 1   0 1 2 3 4   0 1 2 3 4 5\n",
        "#                      0       1        2          3      →  lista criada"
      ],
      "metadata": {
        "id": "VqoDJj2ykxdC"
      },
      "execution_count": null,
      "outputs": []
    },
    {
      "cell_type": "code",
      "source": [
        "dividido = frase.split()\n",
        "\n",
        "print(dividido[3][0])\n",
        "print(dividido[3][1])\n",
        "print(dividido[3][2])\n",
        "print(dividido[3][3])\n",
        "print(dividido[3][4])\n",
        "print(dividido[3][5])\n"
      ],
      "metadata": {
        "id": "dy1CrrZtGspz"
      },
      "execution_count": null,
      "outputs": []
    },
    {
      "cell_type": "markdown",
      "source": [
        "##Junção\n",
        "\n",
        "Explicação"
      ],
      "metadata": {
        "id": "S57qaJWvmgQw"
      }
    },
    {
      "cell_type": "code",
      "source": [
        "#                 Agora que que 'frase' foi divida em uma lista, podemos juntar ela com o Método:\n",
        "\n",
        "#                 '-'join(frase) juntanto todos elemento novamente pelo caractere '-'\n",
        "\n",
        "#                 C u r s o - e  m - V i  d  e   o  - P  y  t  h  o  n \n",
        "#                 0 1 2 3 4 5 6  7 8 9 10 11 12 13 14 15 16 17 18 19 20"
      ],
      "metadata": {
        "id": "zgybPUC1mkJP"
      },
      "execution_count": null,
      "outputs": []
    }
  ]
}