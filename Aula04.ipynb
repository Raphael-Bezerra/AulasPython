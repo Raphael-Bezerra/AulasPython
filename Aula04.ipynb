{
  "nbformat": 4,
  "nbformat_minor": 0,
  "metadata": {
    "colab": {
      "name": "Aula04.ipynb",
      "provenance": [],
      "collapsed_sections": [],
      "toc_visible": true,
      "authorship_tag": "ABX9TyOhDduuA1WPbVXvr9Ji4hVr",
      "include_colab_link": true
    },
    "kernelspec": {
      "name": "python3",
      "display_name": "Python 3"
    },
    "language_info": {
      "name": "python"
    }
  },
  "cells": [
    {
      "cell_type": "markdown",
      "metadata": {
        "id": "view-in-github",
        "colab_type": "text"
      },
      "source": [
        "<a href=\"https://colab.research.google.com/github/Raphael-Bezerra/AulasPython/blob/main/Aula04.ipynb\" target=\"_parent\"><img src=\"https://colab.research.google.com/assets/colab-badge.svg\" alt=\"Open In Colab\"/></a>"
      ]
    },
    {
      "cell_type": "markdown",
      "source": [
        "#Manipulando Cadeias de Texto\n",
        "\n",
        "**Exercício 22**\n",
        "\n",
        "Crie um programa que leia o nome de uma pessoa e motre: \n",
        "\n",
        "1 - O nome com todas maiúsculas\n",
        "\n",
        "2 - O nome com todas minúsculas.\n",
        "\n",
        "3 - Quantas letras ao todo (sem considera os espaços)\n",
        "\n",
        "4 - Quantas letras tem o primeiro nome "
      ],
      "metadata": {
        "id": "v9ysiOXveMtx"
      }
    },
    {
      "cell_type": "code",
      "execution_count": null,
      "metadata": {
        "id": "pCwSl47HeKpM"
      },
      "outputs": [],
      "source": [
        "nome = str(input('Digite seu nome completo: '))\n",
        "\n",
        "print('\\n 1 - {}'.format(nome.upper()))\n",
        "\n",
        "print('\\n 2 - {}'.format(nome.lower()))\n",
        "\n",
        "print('\\n 3 - {}'.format(len(nome) - nome.count(' ')))\n",
        "\n",
        "separa = nome.split()\n",
        "\n",
        "# print('\\n 4 - 1º nome tem {} '.format(nome.find(' ')))\n",
        "print('\\n 4 - 1º nome é {} e ele têm {}'.format(separa[0], len(separa[0])))"
      ]
    },
    {
      "cell_type": "markdown",
      "source": [
        "**Exercíco 23**\n",
        "\n",
        "Faça um programa que leia um número de 0 9999 e mostre na tela cada um dos dígitos separados"
      ],
      "metadata": {
        "id": "bRbbbhmo3L5Q"
      }
    },
    {
      "cell_type": "code",
      "source": [
        "num = int(input('Digite um número: '))\n",
        "u = num // 1 % 10\n",
        "d = num // 10 % 10\n",
        "c = num // 100 % 10\n",
        "m = num // 100 % 10\n",
        "\n",
        "print('\\nAnalisando o número {}'.format(num))\n",
        "print('\\nUnidade: {}'.format(u))\n",
        "print('Dezena: {}'.format(d))\n",
        "print('Centena:{}'.format(c))\n",
        "print('Milhar: {}'.format(m))"
      ],
      "metadata": {
        "id": "_cFC84xx7Jc1"
      },
      "execution_count": null,
      "outputs": []
    },
    {
      "cell_type": "markdown",
      "source": [
        "**Exercício 24** \n",
        "\n",
        "Crie um programa que leia o nome de uma cidade e diga se ela começa com ou não com a nome \"SANTO\""
      ],
      "metadata": {
        "id": "IjR0ejok8ZrV"
      }
    },
    {
      "cell_type": "code",
      "source": [
        "cidade = str(input('Digite o nome de uma cidade: ')).strip()\n",
        "\n",
        "print(cidade[:5].lower() == 'santo')"
      ],
      "metadata": {
        "id": "xyt-L1Sd8tBC"
      },
      "execution_count": null,
      "outputs": []
    },
    {
      "cell_type": "markdown",
      "source": [
        "**Ecercício 25**\n",
        "\n",
        "Crie um programa que leia o nome de uma pessoa e diga se ela tem \"Silva\" no nome "
      ],
      "metadata": {
        "id": "Uisp3Dax9dlp"
      }
    },
    {
      "cell_type": "code",
      "source": [
        "nome = str(input('Digite o seu nome: ')).strip().lower()\n",
        "\n",
        "print('Seu nome tem Silva? {}'.format('silva' in nome))\n",
        "\n"
      ],
      "metadata": {
        "id": "t5S36VyL9-41"
      },
      "execution_count": null,
      "outputs": []
    },
    {
      "cell_type": "markdown",
      "source": [
        "**Exercício 26**\n",
        "\n",
        "Faça um programa que leia uma frase pelo teclado e motre:\n",
        "\n",
        "1 - Quantas vezes aparece a leta \"A\".\n",
        "\n",
        "2- Em que posição ela aparece pela primeira vez.\n",
        "\n",
        "3- Em que posição ela aparece pela última vez."
      ],
      "metadata": {
        "id": "vWQtPPmG-uHh"
      }
    },
    {
      "cell_type": "code",
      "source": [
        "frase = str(input('Digite uma frase: ')).lower().strip()\n",
        "\n",
        "print('\\n 1: Existem {} letras (a) na frase, e o 1º (a) esta na {}ª Posição e a última posição que tem (a) é a {}ª'.format(frase.count('a'), frase.find('a')+1, frase.rfind('a')+1))\n",
        "\n",
        "\n",
        "\n"
      ],
      "metadata": {
        "id": "UtL_v1FP_Ma6"
      },
      "execution_count": null,
      "outputs": []
    },
    {
      "cell_type": "markdown",
      "source": [
        "**Exercício 27**\n",
        "\n",
        "Faça um programa que leia o nome completo de uma pessoa, mostrando em segida o 1º nome e o último no separadamente"
      ],
      "metadata": {
        "id": "SW-IJ4vwCmef"
      }
    },
    {
      "cell_type": "code",
      "source": [
        "nome = str(input('Digite seu nome: ')).strip()\n",
        "\n",
        "nome = nome.split()\n",
        "\n",
        "print('Seu primeiro nome é {}'.format(nome[0]))\n",
        "print('E seu último nome é {}'.format(nome[len(nome)-1]))"
      ],
      "metadata": {
        "id": "qxL608-JC6Lb"
      },
      "execution_count": null,
      "outputs": []
    }
  ]
}