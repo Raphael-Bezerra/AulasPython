{
  "nbformat": 4,
  "nbformat_minor": 0,
  "metadata": {
    "colab": {
      "name": "Aula05.ipynb",
      "provenance": [],
      "toc_visible": true,
      "authorship_tag": "ABX9TyOypPa/BU8VmzuqAHc0xRPX",
      "include_colab_link": true
    },
    "kernelspec": {
      "name": "python3",
      "display_name": "Python 3"
    },
    "language_info": {
      "name": "python"
    }
  },
  "cells": [
    {
      "cell_type": "markdown",
      "metadata": {
        "id": "view-in-github",
        "colab_type": "text"
      },
      "source": [
        "<a href=\"https://colab.research.google.com/github/Raphael-Bezerra/AulasPython/blob/main/Aula05.ipynb\" target=\"_parent\"><img src=\"https://colab.research.google.com/assets/colab-badge.svg\" alt=\"Open In Colab\"/></a>"
      ]
    },
    {
      "cell_type": "markdown",
      "source": [
        "#Condições (Parte 1)\n",
        "\n",
        "\n"
      ],
      "metadata": {
        "id": "P2hy7teOXFat"
      }
    },
    {
      "cell_type": "markdown",
      "source": [
        "Explicação"
      ],
      "metadata": {
        "id": "OXxXzq-DagOd"
      }
    },
    {
      "cell_type": "code",
      "execution_count": null,
      "metadata": {
        "id": "gwH36Ea2W_Ag"
      },
      "outputs": [],
      "source": [
        "#          Somente if para estrutura simples e if else para estruturas composta\n",
        "\n"
      ]
    },
    {
      "cell_type": "markdown",
      "source": [
        "Exemplo"
      ],
      "metadata": {
        "id": "1bZelqaea9fV"
      }
    },
    {
      "cell_type": "code",
      "source": [
        "\n",
        "if tempo<=5:\n",
        "  print('Carro novo')\n",
        "else:\n",
        "  print('Carro velho')\n",
        "print('--FIm--')"
      ],
      "metadata": {
        "id": "1WF0PAgOa_mj"
      },
      "execution_count": null,
      "outputs": []
    },
    {
      "cell_type": "code",
      "source": [
        "#  Condição Simplificada \n",
        "\n",
        "tempo = int(input('Quantos anos tem o seu carro ? '))\n",
        "print('Carro Novo'if tempo<=3 else 'Carro Velho')\n",
        "print('--FIM--')"
      ],
      "metadata": {
        "id": "BBQQIFGucEMb"
      },
      "execution_count": null,
      "outputs": []
    },
    {
      "cell_type": "code",
      "source": [
        "n1 = float(input('Digite a primeira nota: '))\n",
        "n2 = float(input('Digite a segunda nota: '))\n",
        "m = (n1+n2)/2\n",
        "print('\\nA sua média doi {:.1f}'.format(m))\n",
        "print('\\nPARABÉNS' if m >=6 else '\\nESTUDE MAIS')"
      ],
      "metadata": {
        "id": "8_GMX4hPeXIv"
      },
      "execution_count": null,
      "outputs": []
    },
    {
      "cell_type": "code",
      "source": [
        "nome = str(input('Qual é seu nome ? '))\n",
        "if nome == 'Raphael':\n",
        "  print('\\nGostei do seu nome {}'.format(nome))\n",
        "else:\n",
        "  print('\\nBom, um nome normal!')\n",
        "print('\\nBom dia, {}!'.format(nome))"
      ],
      "metadata": {
        "id": "MgMp954jc82Y"
      },
      "execution_count": null,
      "outputs": []
    },
    {
      "cell_type": "markdown",
      "source": [
        "Exercicío 28 \n",
        "\n",
        "Escreva um programa que faça o comutador \"pensar\" em número inteiro entre 0 e 5 e eça para o usuário tentar descobrir qual foi o número escolhid pelo computador. O progrma deverá escrever na tela se o usuário venceu ou perdeu. "
      ],
      "metadata": {
        "id": "M7o5HL2ggLKx"
      }
    },
    {
      "cell_type": "code",
      "source": [
        "from random import randint\n",
        "from time import sleep\n",
        "computador = randint(0, 5) # Faz o computador escolher um número\n",
        "print('-~--' * 12)\n",
        "print('Vou pensar um número entre 0 e 5. Tente adivinhar...')\n",
        "print('-~--' * 12)\n",
        "jogador = int(input('\\nEm que número em pensei? ')) #jogador tenta adivinhar\n",
        "print('\\nPROCESSANDO...')\n",
        "sleep(3)\n",
        "if jogador == computador:\n",
        "  print('\\nPARABÉNS! Você conseguiu  me vencer!')\n",
        "else:\n",
        "  print('\\nGANHEI! Eu pensei no número {} e não no {}'.format(computador, jogador))\n"
      ],
      "metadata": {
        "id": "ZUb04MQJgtFS"
      },
      "execution_count": null,
      "outputs": []
    },
    {
      "cell_type": "markdown",
      "source": [
        "Exercicío 29\n",
        "\n",
        "Escreva um programa que leia a velocidade de um carro. Se ele ultrapasssar 80km/h, mostre uma mensagem que ele foi multado. A multa vai custar R$7,00 por cada Km acima do limite.\n",
        "\n"
      ],
      "metadata": {
        "id": "QUbhwfHHgua2"
      }
    },
    {
      "cell_type": "code",
      "source": [
        "velocidade = float(input('Em qual velocidade o carro está ? '))\n",
        "if velocidade > 80:\n",
        "  print('\\nVocê acabou ser multado por ultrapassar a velocidade permitida de 80km/h')\n",
        "  multa = (velocidade - 80) * 7\n",
        "  print('\\nO valor da sua multa é de R${:.2f}'.format(multa))\n",
        "else:\n",
        "  print('\\nTenha um bom dia! Dirija com segurança!')"
      ],
      "metadata": {
        "id": "mbyCz9ywhYBa"
      },
      "execution_count": null,
      "outputs": []
    },
    {
      "cell_type": "markdown",
      "source": [
        "Exercicío 30\n",
        "\n",
        "Crie em programa que leia um número inteiro e mostre na tela se é Par ou Impar. "
      ],
      "metadata": {
        "id": "6-R_hy6fhYhr"
      }
    },
    {
      "cell_type": "code",
      "source": [
        "número = int(input('Digita um número Inteiro qualquer '))\n",
        "resultado = número % 2\n",
        "print('\\nEsse número é PAR!'if resultado == 0 else '\\nEsse número é ÍMPAR!')  \n",
        "\n"
      ],
      "metadata": {
        "id": "knTmM0EHhu14"
      },
      "execution_count": null,
      "outputs": []
    },
    {
      "cell_type": "markdown",
      "source": [
        "Exercicío 31 \n",
        "\n",
        "Desenvolva um programa que pergunte a distância de uma viagem Km. Calcule o preço da passagem, cobrando  0,50 por Km para viagens de até 200Km e 0,45 para viagens mais longas."
      ],
      "metadata": {
        "id": "wmAFPKD2hwPV"
      }
    },
    {
      "cell_type": "code",
      "source": [
        "distância = float(input('Qual sera a distancia da sua viagem? '))\n",
        "\n",
        "print('\\nSua vai iniciar uma viagem de {}Km'.format(distância))\n",
        "\n",
        "cobrança = distância * 0.50 if distância >=200 else distãncia * 0.45  # (if simplificado)a cobrança vai reseber a distância * 0.50 se a distância fo abaixo de 200 se não preço vai receber distâcia * 0,45 \n",
        "\n",
        "print('\\nSua viagem custará R${:.2f}'.format(cobrança))\n",
        "\n",
        "\n",
        "#if distância <= 200:\n",
        "#  cobrança = 0.50 * distância\n",
        "  \n",
        "#else:\n",
        "#  cobrança = 0.45 * distância \n"
      ],
      "metadata": {
        "id": "SiPI_MZIi9Em"
      },
      "execution_count": null,
      "outputs": []
    },
    {
      "cell_type": "markdown",
      "source": [
        "Exercicío 32 \n",
        "\n",
        "Faça um programa que lei um ano qualquer e mostre se ele é BISSEXTO"
      ],
      "metadata": {
        "id": "3lL0EdcDi8OA"
      }
    },
    {
      "cell_type": "code",
      "source": [
        "from datetime import date\n",
        "ano = int(input('Que ano você quer analizar? '))\n",
        "if ano == 0:\n",
        "  ano = date.today().year\n",
        "if  ano % 4 == 0 and ano % 100 != 0 or ano % 400 == 0:\n",
        "  print('\\nAno de {} é BISSEXTO'.format(ano))\n",
        "else:\n",
        "  print('\\nO ano de {} NÃO é BISSEXTO'.format(ano))"
      ],
      "metadata": {
        "id": "zQLqLC1BjWgW"
      },
      "execution_count": null,
      "outputs": []
    },
    {
      "cell_type": "markdown",
      "source": [
        "Exercicío 33\n",
        "\n",
        "Faça um programa que leia três números e mostre qual é o maior e qual menor."
      ],
      "metadata": {
        "id": "59-BDhuhjXWB"
      }
    },
    {
      "cell_type": "code",
      "source": [
        "n1 = int(input('Primeiro valor: '))\n",
        "n2 = int(input('Segundo valor: '))\n",
        "n3 = int(input('Terceiro valor'))\n",
        "# Verificando quem é menor<\n",
        "menor = n1 \n",
        "if n2<n1 and n2<n3: \n",
        "  menor = n2\n",
        "if n3<n2 and n3<n1:\n",
        "  menor = n3\n",
        "# Verificando quem é o maior>\n",
        "maior = n1 \n",
        "if n2>n1 and n2>n3:\n",
        "  maior = n2\n",
        "if n3>n2 and n3>n1:\n",
        "  maior = n3\n",
        "print('O menor valor digitado foi {}'.format(menor))"
      ],
      "metadata": {
        "id": "BpWeouqAjYo3"
      },
      "execution_count": null,
      "outputs": []
    },
    {
      "cell_type": "markdown",
      "source": [
        "Exercicío 34\n",
        "\n",
        "Escreva um programa que pergunte o salário de um funcionário e calcule o valor do seu aumento. Para salários superiores a 1.2500,00, calcule um aumento de 10%. Para as inferiores ou iguais a este valor, o aumento é de 15%"
      ],
      "metadata": {
        "id": "Wifxf1J2jzxM"
      }
    },
    {
      "cell_type": "code",
      "source": [
        "salário = float(input('Qual é valor atual do salário atual do funcionári? R$'))\n",
        "if salário<=1250:\n",
        "  aumento = (15 / 100) * salário\n",
        "else:\n",
        "  aumento = (10 / 100) * salário\n",
        "print('\\nQuem ganhava R${:.2f} passa a ganhar R${:.2f} agora'.format(salário, (salário + aumento)))"
      ],
      "metadata": {
        "id": "ZdbG_XROjwzz"
      },
      "execution_count": null,
      "outputs": []
    },
    {
      "cell_type": "markdown",
      "source": [
        "Exerecicío 35\n",
        "\n",
        "Desenvolva um programa que leia o comrimento de três retas e diga ao usuário se elas podem ou não formar um triângulo."
      ],
      "metadata": {
        "id": "srfTNaqOkklo"
      }
    },
    {
      "cell_type": "code",
      "source": [
        "print('-~-' * 7)\n",
        "print('Analisando Triângilo')\n",
        "print('-~-' * 7)\n",
        "r1 = float(input('Primeiro segmento: '))\n",
        "r2 = float(input('Sengundo segmento: '))\n",
        "r3 = float(input('Terceiro segmento: '))\n",
        "if r1 < r2 + r3 and r2 < r1 + r3 and r3 < r1 + r2:\n",
        "  print('\\nOs segmentos acima PODEM FORMAR um triângulo!')\n",
        "else:\n",
        "  print('\\nOs segmentos acima NÃO PODEM FORMAR um triângulo!')"
      ],
      "metadata": {
        "id": "zjmKvU7Rkk2z"
      },
      "execution_count": null,
      "outputs": []
    },
    {
      "cell_type": "markdown",
      "source": [
        "#Cores no Terminal\n"
      ],
      "metadata": {
        "id": "1S87RApZ0Dyy"
      }
    },
    {
      "cell_type": "markdown",
      "source": [
        "Explicação"
      ],
      "metadata": {
        "id": "puh3UvYJ0ZDK"
      }
    },
    {
      "cell_type": "code",
      "source": [
        "# Padrão ANSI (escape sequence)\n",
        "\n",
        "# representar uma cor em Python  \\033[0=(style);33=(text);44=(back)m\n",
        "\n",
        "# 0 None;  1 Bold;  4 Underline; 7 Negative . \n",
        "\n",
        "# Text\n",
        "# 30 Branco. 31 Vermelho; 32 Verde; 33 Amarelo; 34 Azul; 35 Roxo;  36 Azul claro; 37 Cinza.\n",
        "\n",
        "# Back\n",
        "# 40 Branco. 41 Vermelho; 42 Verde; 43 Amarelo; 44 Azul; 45 Roxo;  46 Azul claro; 47 Cinza."
      ],
      "metadata": {
        "id": "gwAyTVuc0Vcr"
      },
      "execution_count": null,
      "outputs": []
    },
    {
      "cell_type": "markdown",
      "source": [
        "Exemplos"
      ],
      "metadata": {
        "id": "KAs3VkM42x-A"
      }
    },
    {
      "cell_type": "code",
      "source": [
        "print('\\n\\033[31mTESTE PYTHON')\n",
        "print('\\n\\033[31;44mTESTE PYTHON')\n",
        "print('\\n\\033[1;31;43mTESTE PYTHON')\n",
        "print('\\n\\033[4;30;45mTESTE PYTHON')\n",
        "print('\\n\\033[0;7;37;40mTESTE PYTHON')\n",
        "print('\\n\\033[1;7;37mTESTE PYTHON')\n",
        "print('\\n\\033[0;33;44mTESTE PYTHON')\n",
        "print('\\n\\033[0;33;40mTESTE PYTHON')\n",
        "\n",
        "print('\\n')\n",
        "print('\\033[31m-~-' * 5)\n",
        "print('\\033[0;33;40mAula de Python')\n",
        "print('\\033[31m-~-' * 5)\n"
      ],
      "metadata": {
        "id": "5kaUnyTW2eE5"
      },
      "execution_count": null,
      "outputs": []
    }
  ]
}