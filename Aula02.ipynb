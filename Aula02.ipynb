{
  "nbformat": 4,
  "nbformat_minor": 0,
  "metadata": {
    "colab": {
      "name": "Aula02.ipynb",
      "provenance": [],
      "collapsed_sections": [],
      "mount_file_id": "1p3WTKDir3vrC8xqvfpSBrnYpIoGUz11a",
      "authorship_tag": "ABX9TyPPJ9f9PmO5dLCI90cemNA2",
      "include_colab_link": true
    },
    "kernelspec": {
      "name": "python3",
      "display_name": "Python 3"
    },
    "language_info": {
      "name": "python"
    }
  },
  "cells": [
    {
      "cell_type": "markdown",
      "metadata": {
        "id": "view-in-github",
        "colab_type": "text"
      },
      "source": [
        "<a href=\"https://colab.research.google.com/github/Raphael-Bezerra/AulasPython/blob/main/Aula02.ipynb\" target=\"_parent\"><img src=\"https://colab.research.google.com/assets/colab-badge.svg\" alt=\"Open In Colab\"/></a>"
      ]
    },
    {
      "cell_type": "markdown",
      "source": [
        "#Usando Módulos do Python"
      ],
      "metadata": {
        "id": "29vLDR_Pb3DB"
      }
    },
    {
      "cell_type": "markdown",
      "source": [
        "Trabalhando com Módulos"
      ],
      "metadata": {
        "id": "_6uI0F0Pg-06"
      }
    },
    {
      "cell_type": "markdown",
      "source": [
        "Anotações"
      ],
      "metadata": {
        "id": "J4s3I4Asify4"
      }
    },
    {
      "cell_type": "code",
      "execution_count": null,
      "metadata": {
        "id": "rMT_00G6bf0E"
      },
      "outputs": [],
      "source": [
        "# (match - bibliotca de matemática)\n",
        "\n",
        " # ceil - arredonda para cima \n",
        " # floor - arredonda para baixo\n",
        " #trunc - vai eliminar os número após a vírgula -trucar\n",
        " #pow - potência \n",
        " #sqtr - square roots - raiz quadrada\n",
        " #factorial - calcula fatorial de um número \n",
        "\n",
        " # from biblioteca impot função\n",
        " # Caso precise só de uma função da biblioteca usar o comando:\n",
        " # from math import sqtr \n",
        " # Caso queira usar mais de uma só usar a vírgula como separador \n",
        "\n"
      ]
    },
    {
      "cell_type": "markdown",
      "source": [
        "Exemplos"
      ],
      "metadata": {
        "id": "27U0HFaxlJkf"
      }
    },
    {
      "cell_type": "code",
      "source": [
        "import math  # importando toda a boblioteca \"math\"\n",
        "\n",
        "num = int(input('Digite um número: '))\n",
        "\n",
        "raiz = math.sqrt(num)\n",
        "\n",
        "print('\\nA raiz de {} é {}'.format(num, math.ceil(raiz))) # \"math.ceil\" arendondando a raiz para cima \n"
      ],
      "metadata": {
        "id": "loXwjU_kkyxV"
      },
      "execution_count": null,
      "outputs": []
    },
    {
      "cell_type": "code",
      "source": [
        "from math import sqrt, floor #importando somante as funções \"sqtr\" e \"floor\" da biblioteca \"math\" \n",
        "\n",
        "num2 = int(input('Digite um número: '))\n",
        "\n",
        "rq = sqrt(num2) # quando é importado só função não é preciso o nome da bibliotec aqui \n",
        "\n",
        "print('\\nA raiz de {} é  {}'.format(num2, floor(rq))) # \"flor\" arrendando a raiz para baixo"
      ],
      "metadata": {
        "id": "B6w0jtOwnSkd"
      },
      "execution_count": null,
      "outputs": []
    },
    {
      "cell_type": "code",
      "source": [
        "import random \n",
        "\n",
        "num = random.random() # Gerando um número aleatório entre 0 e 1 com método \"random\" da biblioteca \"random\"\n",
        "\n",
        "num2 = random.randint(1, 1000) # Gerando um número aleatório entre N e N com método \"randic\" da biblioteca \"random\"\n",
        "\n",
        "print(num,'\\n')\n",
        "print(num2)"
      ],
      "metadata": {
        "id": "dG7nDsf6qDce"
      },
      "execution_count": null,
      "outputs": []
    },
    {
      "cell_type": "code",
      "source": [
        "pip install emoji #instalando uma biblioteca externa"
      ],
      "metadata": {
        "id": "z73y0vNxsj5b"
      },
      "execution_count": null,
      "outputs": []
    },
    {
      "cell_type": "code",
      "source": [
        "import emoji\n",
        "print(emoji.emojize('Olá mundo :earth_americas:\\n', use_aliases=True))\n"
      ],
      "metadata": {
        "id": "uoIw1pdHyST4"
      },
      "execution_count": null,
      "outputs": []
    },
    {
      "cell_type": "markdown",
      "source": [
        "Exercício 16 \n",
        "\n",
        "Crie um programa que leia um número Real qualquer pelo teclado e mostre na tela a sua porção Inteira."
      ],
      "metadata": {
        "id": "6zooXlRg13Xr"
      }
    },
    {
      "cell_type": "code",
      "source": [
        "from math import trunc\n",
        "\n",
        "n = float(input(\"Digite um número Real: \"))\n",
        "\n",
        "print('\\n O valor digitado foi {} e a sua porção Inteira é {}'.format(n, (trunc(n))))"
      ],
      "metadata": {
        "id": "JDHHakcP2LPn"
      },
      "execution_count": null,
      "outputs": []
    },
    {
      "cell_type": "code",
      "source": [
        "# Sem importação de módulos \n",
        "\n",
        "n = float(input('Digite um número Real: '))\n",
        "\n",
        "print('\\nO valor digitado foi {} e a sua porção Inteira é {}'.format(n, int(n)))"
      ],
      "metadata": {
        "id": "jQXTBCweAHzC"
      },
      "execution_count": null,
      "outputs": []
    },
    {
      "cell_type": "markdown",
      "source": [
        "Exercício 17\n",
        "\n",
        "Faça um programa que leia o comprimento do catato adjacente de um triângulo retângulo, calcule e mstre o comprimento da hipotenusa"
      ],
      "metadata": {
        "id": "IIyUaeaW4ykj"
      }
    },
    {
      "cell_type": "code",
      "source": [
        "from math import hypot\n",
        "co = float(input('Valor do Cateto Opostos: '))\n",
        "ca = float(input('\\nValor do Cateto Adjacente: '))\n",
        "hip = hypot(co, ca)\n",
        "\n",
        "print('\\nO valor da hipotenuza é {:.2f}'.format(hip))\n",
        "\n"
      ],
      "metadata": {
        "id": "xUefl1OQA7-8"
      },
      "execution_count": null,
      "outputs": []
    },
    {
      "cell_type": "code",
      "source": [
        "# fórmula Teorema de Pitágoras (a² = b² + c²) \n",
        "\n",
        "# Sem importação\n",
        "\n",
        "co = float(input('Informe o valor do Cateto Oposto ?: '))\n",
        "ca = float(input('´\\nAgora o valor do Cateto Adjacente ?: '))\n",
        "\n",
        "hip = (ca ** 2 + co ** 2) ** (1/2)\n",
        "\n",
        "print('\\nO valor da hipotenusa é {:.2f}'.format(hip))"
      ],
      "metadata": {
        "id": "DLPB1UaY5IJU"
      },
      "execution_count": null,
      "outputs": []
    },
    {
      "cell_type": "markdown",
      "source": [
        "Exercício 18\n",
        "\n",
        "Faça um programa que leia um ângulo qualquer e mostre na tela o valor do seno, cosseno e tangente desse ângulo."
      ],
      "metadata": {
        "id": "6RG9NIw48yX-"
      }
    },
    {
      "cell_type": "code",
      "source": [
        "from math import radians, sin, cos,tan\n",
        "angulo = float(input('Digite o ângulo que você deseja: '))\n",
        "seno = sin(radians(angulo))\n",
        "cosseno = cos(radians(angulo))\n",
        "tangente = tan(radians(angulo))\n",
        "print('\\nO ângulo de {} tem: \\nSENO de {:.2f} \\nCOSSENO de {:.2F} \\nTANGENTE D {:.2F}'.format(angulo, seno, cosseno, tangente))\n",
        "\n"
      ],
      "metadata": {
        "id": "-JHVnBab9DUY"
      },
      "execution_count": null,
      "outputs": []
    },
    {
      "cell_type": "markdown",
      "source": [
        "Exercícios 19\n",
        "\n",
        "Um professor quer sortear um dos seus alunos para apagar o quadro. Faça um programa que ajude ele, lendo o nome deles e escrevendo o nome do escolhido."
      ],
      "metadata": {
        "id": "zBkkpgC69DeW"
      }
    },
    {
      "cell_type": "code",
      "source": [
        "from random import choice\n",
        "a1 = str(input('1º aluno: ')) \n",
        "a2 = str(input('2º Aluno: '))\n",
        "a3 = str(input('3º Aluno: '))\n",
        "a4 = str(input('4º aluno: ')) \n",
        "lista = [a1, a2, a3, a4]\n",
        "escolhido = choice(lista)\n",
        "print('\\nO aluno escolhido foi {}'.format(escolhido))"
      ],
      "metadata": {
        "id": "adNiaBaL934K"
      },
      "execution_count": null,
      "outputs": []
    },
    {
      "cell_type": "markdown",
      "source": [
        "Exercício 20 \n",
        "\n",
        "O mesmo professor do desafio anterior quer sortear a ordem de apresentação de trabalhos. Faça um programa que leia o nome dos quatros alunos e mostre a ordem sorteada."
      ],
      "metadata": {
        "id": "Xp21zbCe94FY"
      }
    },
    {
      "cell_type": "code",
      "source": [
        "from random import shuffle\n",
        "a1 = str(input('1º aluno: '))\n",
        "a2 = str(input('2º aluno: '))\n",
        "a3 = str(input('3º aluno: '))\n",
        "a4 = str(input('4º aluno: '))\n",
        "lista = [a1, a2, a3, a4]\n",
        "shuffle(lista)\n",
        "\n",
        "print('A ordem de apresentação será:')\n",
        "print(lista)"
      ],
      "metadata": {
        "id": "cNeQH2QM-TAs"
      },
      "execution_count": null,
      "outputs": []
    },
    {
      "cell_type": "markdown",
      "source": [
        "Exercício 21\n",
        "\n",
        "Faça um programa em Python que abra e reproduza o áudio de um arquivo MP3.\n"
      ],
      "metadata": {
        "id": "SV4XYZdm-TJP"
      }
    },
    {
      "cell_type": "code",
      "source": [
        "pip install pygame # intalando a bibliteca externa \"pygame\""
      ],
      "metadata": {
        "id": "KAqoF3aT-qzc"
      },
      "execution_count": null,
      "outputs": []
    },
    {
      "cell_type": "code",
      "source": [
        "import pygame \n",
        "pygame.init()\n",
        "pygame.mixer.music.load ('test.mp3')\n",
        "pygame.mixer.music.play()\n",
        "pygame.event.wait()\n"
      ],
      "metadata": {
        "id": "HeCrRYMNLx6K"
      },
      "execution_count": null,
      "outputs": []
    }
  ]
}